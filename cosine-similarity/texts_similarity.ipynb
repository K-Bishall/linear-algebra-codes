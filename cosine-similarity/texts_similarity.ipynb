{
 "cells": [
  {
   "metadata": {},
   "cell_type": "markdown",
   "source": "# Determining Similarity Between Text Files Using Cosine Similarity",
   "id": "1a8afdaf214da8bd"
  },
  {
   "metadata": {},
   "cell_type": "markdown",
   "source": "![Steps](texts-similarity-steps.png)",
   "id": "1ba8b6b86eaac5ad"
  },
  {
   "cell_type": "code",
   "id": "initial_id",
   "metadata": {
    "collapsed": true
   },
   "source": [
    "import numpy as np\n",
    "from collections import Counter\n",
    "import string"
   ],
   "outputs": [],
   "execution_count": null
  },
  {
   "metadata": {},
   "cell_type": "code",
   "source": [
    "# basic stopwords\n",
    "STOPWORDS = {\"a\", \"an\", \"the\", \"is\", \"are\", \"was\", \"were\", \"in\", \"on\", \"at\", \"by\", \"with\", \"for\", \"of\",\n",
    "             \"and\", \"or\", \"to\", \"this\", \"that\", \"it\", \"he\", \"she\", \"they\", \"we\", \"you\", \"have\", \"has\"}"
   ],
   "id": "8024c17139641257",
   "outputs": [],
   "execution_count": null
  },
  {
   "metadata": {},
   "cell_type": "markdown",
   "source": "### Implement each step",
   "id": "f58481d989cecc5e"
  },
  {
   "metadata": {},
   "cell_type": "code",
   "source": [
    "def read_file(filename: str) -> str:\n",
    "    with open(filename, 'r') as file:\n",
    "        return file.read().lower()"
   ],
   "id": "78b431cd2328ca31",
   "outputs": [],
   "execution_count": null
  },
  {
   "metadata": {},
   "cell_type": "code",
   "source": [
    "def remove_punctuation(text: str) -> str:\n",
    "    translator = str.maketrans('', '', string.punctuation)\n",
    "\n",
    "    return text.translate(translator)"
   ],
   "id": "71ceadbfc3686a32",
   "outputs": [],
   "execution_count": null
  },
  {
   "metadata": {},
   "cell_type": "code",
   "source": [
    "# Tokenize and remove stopwords\n",
    "def tokenize(text: str) -> list[str]:\n",
    "    text = remove_punctuation(text)\n",
    "    tokens = text.split()\n",
    "    tokens = filter(lambda token: token not in STOPWORDS, tokens)\n",
    "    return list(tokens)"
   ],
   "id": "247bf145beec4083",
   "outputs": [],
   "execution_count": null
  },
  {
   "metadata": {},
   "cell_type": "code",
   "source": [
    "# create word frequency vector\n",
    "def vectorize(tokens: list[str], vocabulary: set[str]) -> np.ndarray:\n",
    "    word_counts: dict = Counter(tokens)\n",
    "    word_vector = [word_counts.get(word, 0) for word in vocabulary]\n",
    "\n",
    "    dict(linear=2, machine=5, learning=10, cosine=0)\n",
    "\n",
    "    return np.array(word_vector, dtype=float)"
   ],
   "id": "55d6e79e5b004c80",
   "outputs": [],
   "execution_count": null
  },
  {
   "metadata": {},
   "cell_type": "code",
   "source": [
    "def cosine_similarity(vec1: np.ndarray, vec2: np.ndarray) -> float:\n",
    "    dot_product = np.dot(vec1, vec2)\n",
    "    norm1 = np.linalg.norm(vec1)\n",
    "    norm2 = np.linalg.norm(vec2)\n",
    "\n",
    "    return dot_product / (norm1 * norm2) if norm1 * norm2 != 0 else 0"
   ],
   "id": "6b11510ea485d432",
   "outputs": [],
   "execution_count": null
  },
  {
   "metadata": {},
   "cell_type": "markdown",
   "source": "### Putting things together",
   "id": "e3d737f541d91ffd"
  },
  {
   "metadata": {},
   "cell_type": "code",
   "source": [
    "file1_path: str = \"file1.txt\"\n",
    "file2_path: str = \"file2.txt\"\n",
    "file3_path: str = \"file3.txt\"\n",
    "\n",
    "# Read content\n",
    "text1: str = read_file(file1_path)\n",
    "text2: str = read_file(file2_path)\n",
    "text3: str = read_file(file3_path)\n",
    "\n",
    "# tokenize\n",
    "tokens1 = tokenize(text1)\n",
    "tokens2 = tokenize(text2)\n",
    "tokens3 = tokenize(text3)\n",
    "\n",
    "# Build vocabulary (unique words from both texts after stopword removal)\n",
    "vocabulary = set(tokens1 + tokens2 + tokens3)\n",
    "\n",
    "# Vectorize texts\n",
    "vec1 = vectorize(tokens1, vocabulary)\n",
    "vec2 = vectorize(tokens2, vocabulary)\n",
    "vec3 = vectorize(tokens3, vocabulary)\n",
    "\n",
    "# Compute similarity\n",
    "similarity12: float = cosine_similarity(vec1, vec2)\n",
    "similarity13: float = cosine_similarity(vec1, vec3)\n",
    "similarity23: float = cosine_similarity(vec2, vec3)\n",
    "\n",
    "print(f\"Cosine Similarity 1 & 2 : {similarity12:.4f}\")\n",
    "print(f\"Cosine Similarity 1 & 3 : {similarity13:.4f}\")\n",
    "print(f\"Cosine Similarity 2 & 3 : {similarity23:.4f}\")"
   ],
   "id": "54dba598f2129331",
   "outputs": [],
   "execution_count": null
  },
  {
   "metadata": {},
   "cell_type": "code",
   "source": "",
   "id": "317900621e6a4861",
   "outputs": [],
   "execution_count": null
  }
 ],
 "metadata": {
  "kernelspec": {
   "display_name": "Python 3",
   "language": "python",
   "name": "python3"
  },
  "language_info": {
   "codemirror_mode": {
    "name": "ipython",
    "version": 2
   },
   "file_extension": ".py",
   "mimetype": "text/x-python",
   "name": "python",
   "nbconvert_exporter": "python",
   "pygments_lexer": "ipython2",
   "version": "2.7.6"
  }
 },
 "nbformat": 4,
 "nbformat_minor": 5
}
