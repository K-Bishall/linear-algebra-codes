{
 "cells": [
  {
   "metadata": {},
   "cell_type": "markdown",
   "source": "# Vector Basics Using Numpy",
   "id": "98daba02cdc6cf6e"
  },
  {
   "cell_type": "code",
   "id": "initial_id",
   "metadata": {
    "collapsed": true
   },
   "source": "import numpy as np",
   "outputs": [],
   "execution_count": null
  },
  {
   "metadata": {},
   "cell_type": "code",
   "source": [
    "# defining vectors\n",
    "vec_a = np.array([1, 2, 3, 4, 5])\n",
    "vec_b = np.array([6, 7, 8, 9, 10])\n"
   ],
   "id": "532ee1ff072ac1a0",
   "outputs": [],
   "execution_count": null
  },
  {
   "metadata": {},
   "cell_type": "code",
   "source": [
    "# vector addition\n",
    "vec_c = vec_a + vec_b\n",
    "print(vec_c)"
   ],
   "id": "b61313212ade14ad",
   "outputs": [],
   "execution_count": null
  },
  {
   "metadata": {},
   "cell_type": "code",
   "source": [
    "# scalar multiplication\n",
    "scalar = 4\n",
    "vec_d = scalar * vec_a\n",
    "print(vec_d)"
   ],
   "id": "d42e9239ba8c0229",
   "outputs": [],
   "execution_count": null
  },
  {
   "metadata": {},
   "cell_type": "code",
   "source": [
    "# dot product\n",
    "dot_product = np.dot(vec_a, vec_b)\n",
    "print(dot_product)"
   ],
   "id": "b5de935754c72ecb",
   "outputs": [],
   "execution_count": null
  },
  {
   "metadata": {},
   "cell_type": "code",
   "source": [
    "# magnitude or norm\n",
    "norm_a = np.linalg.norm(vec_a)\n",
    "norm_b = np.linalg.norm(vec_b)\n",
    "print('Norm a:', norm_a)\n",
    "print('Norm b:', norm_b)"
   ],
   "id": "63b83c9dd6bb972d",
   "outputs": [],
   "execution_count": null
  },
  {
   "metadata": {},
   "cell_type": "code",
   "source": [
    "# unit vectors\n",
    "unit_vec_a = vec_a / norm_a\n",
    "unit_vec_b = vec_b / norm_b\n",
    "print(unit_vec_a)\n",
    "print(unit_vec_b)"
   ],
   "id": "59c3c3fdca2e3522",
   "outputs": [],
   "execution_count": null
  },
  {
   "metadata": {},
   "cell_type": "code",
   "source": [
    "# verify magnitude of unit vectors\n",
    "norm_unit_a = np.linalg.norm(unit_vec_a)\n",
    "norm_unit_b = np.linalg.norm(unit_vec_b)\n",
    "print('Norm unit a:', norm_unit_a)\n",
    "print('Norm unit b:', norm_unit_b)"
   ],
   "id": "a32e4946cba58a69",
   "outputs": [],
   "execution_count": null
  },
  {
   "metadata": {},
   "cell_type": "code",
   "source": [
    "# linear combination of vectors\n",
    "x, y, z = 2, -4, 5\n",
    "\n",
    "combined_vector = x * vec_a + y * vec_b + z * vec_c\n",
    "print('Combined vector:', combined_vector)"
   ],
   "id": "2942fb679a70a01c",
   "outputs": [],
   "execution_count": null
  },
  {
   "metadata": {},
   "cell_type": "code",
   "source": "",
   "id": "f5674c73f67745f9",
   "outputs": [],
   "execution_count": null
  }
 ],
 "metadata": {
  "kernelspec": {
   "display_name": "Python 3",
   "language": "python",
   "name": "python3"
  },
  "language_info": {
   "codemirror_mode": {
    "name": "ipython",
    "version": 2
   },
   "file_extension": ".py",
   "mimetype": "text/x-python",
   "name": "python",
   "nbconvert_exporter": "python",
   "pygments_lexer": "ipython2",
   "version": "2.7.6"
  }
 },
 "nbformat": 4,
 "nbformat_minor": 5
}
